{
 "nbformat": 4,
 "nbformat_minor": 2,
 "metadata": {
  "language_info": {
   "name": "python",
   "codemirror_mode": {
    "name": "ipython",
    "version": 3
   }
  },
  "orig_nbformat": 2,
  "file_extension": ".py",
  "mimetype": "text/x-python",
  "name": "python",
  "npconvert_exporter": "python",
  "pygments_lexer": "ipython3",
  "version": 3
 },
 "cells": [
  {
   "cell_type": "code",
   "execution_count": 2,
   "metadata": {},
   "outputs": [
    {
     "data": {
      "text/plain": "1405006117752879898543142606244511569936384000000000"
     },
     "execution_count": 2,
     "metadata": {},
     "output_type": "execute_result"
    }
   ],
   "source": [
    "def factorial(n):\n",
    "    '''reutrn n!'''\n",
    "    return 1 if n < 2 else  n * factorial(n-1)\n",
    "\n",
    "factorial(42)"
   ]
  },
  {
   "cell_type": "code",
   "execution_count": 3,
   "metadata": {},
   "outputs": [
    {
     "name": "stdout",
     "output_type": "stream",
     "text": "reutrn n!\n"
    }
   ],
   "source": [
    "print(factorial.__doc__)"
   ]
  },
  {
   "cell_type": "code",
   "execution_count": 4,
   "metadata": {},
   "outputs": [
    {
     "data": {
      "text/plain": "<function __main__.factorial(n)>"
     },
     "execution_count": 4,
     "metadata": {},
     "output_type": "execute_result"
    }
   ],
   "source": [
    "fact = factorial\n",
    "fact"
   ]
  },
  {
   "cell_type": "code",
   "execution_count": 5,
   "metadata": {},
   "outputs": [
    {
     "data": {
      "text/plain": "120"
     },
     "execution_count": 5,
     "metadata": {},
     "output_type": "execute_result"
    }
   ],
   "source": [
    "fact(5)"
   ]
  },
  {
   "cell_type": "code",
   "execution_count": 6,
   "metadata": {},
   "outputs": [
    {
     "data": {
      "text/plain": "<map at 0x144ddc8ad30>"
     },
     "execution_count": 6,
     "metadata": {},
     "output_type": "execute_result"
    }
   ],
   "source": [
    "map(factorial, range(11))"
   ]
  },
  {
   "cell_type": "code",
   "execution_count": 8,
   "metadata": {},
   "outputs": [
    {
     "data": {
      "text/plain": "[1, 1, 2, 6, 24, 120, 720, 5040, 40320, 362880, 3628800]"
     },
     "execution_count": 8,
     "metadata": {},
     "output_type": "execute_result"
    }
   ],
   "source": [
    "list(map(fact, range(11)))"
   ]
  },
  {
   "cell_type": "markdown",
   "execution_count": null,
   "metadata": {},
   "outputs": [],
   "source": [
    "# 高阶函数"
   ]
  },
  {
   "cell_type": "code",
   "execution_count": 14,
   "metadata": {},
   "outputs": [
    {
     "data": {
      "text/plain": "'gnitset'"
     },
     "execution_count": 14,
     "metadata": {},
     "output_type": "execute_result"
    }
   ],
   "source": [
    "def reverse(word):\n",
    "    return word[::-1]\n",
    "\n",
    "\n",
    "reverse(\"testing\")"
   ]
  },
  {
   "cell_type": "code",
   "execution_count": 16,
   "metadata": {},
   "outputs": [
    {
     "data": {
      "text/plain": "['apple', 'fig', 'strawberry', 'cherry']"
     },
     "execution_count": 16,
     "metadata": {},
     "output_type": "execute_result"
    }
   ],
   "source": [
    "sorted([\"strawberry\", \"fig\", \"apple\", \"cherry\"], key=reverse)"
   ]
  },
  {
   "cell_type": "markdown",
   "execution_count": null,
   "metadata": {},
   "outputs": [],
   "source": [
    "## map filter  reduce的替代品"
   ]
  },
  {
   "cell_type": "code",
   "execution_count": 18,
   "metadata": {},
   "outputs": [
    {
     "data": {
      "text/plain": "[1, 1, 2, 6, 24, 120]"
     },
     "execution_count": 18,
     "metadata": {},
     "output_type": "execute_result"
    }
   ],
   "source": [
    "list(map(fact, range(6)))"
   ]
  },
  {
   "cell_type": "code",
   "execution_count": 19,
   "metadata": {},
   "outputs": [
    {
     "data": {
      "text/plain": "[1, 1, 2, 6, 24, 120]"
     },
     "execution_count": 19,
     "metadata": {},
     "output_type": "execute_result"
    }
   ],
   "source": [
    "[fact(n) for n in range(6)]"
   ]
  },
  {
   "cell_type": "code",
   "execution_count": 21,
   "metadata": {},
   "outputs": [
    {
     "data": {
      "text/plain": "[1, 6, 120]"
     },
     "execution_count": 21,
     "metadata": {},
     "output_type": "execute_result"
    }
   ],
   "source": [
    "# use map and filter\n",
    "list(map(fact, filter(lambda n : n % 2, range(6))))"
   ]
  },
  {
   "cell_type": "code",
   "execution_count": 22,
   "metadata": {},
   "outputs": [
    {
     "data": {
      "text/plain": "[1, 6, 120]"
     },
     "execution_count": 22,
     "metadata": {},
     "output_type": "execute_result"
    }
   ],
   "source": [
    "# use list comprehension\n",
    "[fact(n) for n in range(6) if n % 2]"
   ]
  },
  {
   "cell_type": "markdown",
   "execution_count": null,
   "metadata": {},
   "outputs": [],
   "source": [
    "## 匿名函数"
   ]
  },
  {
   "cell_type": "code",
   "execution_count": 24,
   "metadata": {},
   "outputs": [
    {
     "data": {
      "text/plain": "['bnana', 'apple', 'fig', 'raspberry', 'strawberry', 'cherry']"
     },
     "execution_count": 24,
     "metadata": {},
     "output_type": "execute_result"
    }
   ],
   "source": [
    "fruits = [\"strawberry\", \"fig\", \"apple\", \"cherry\", \"raspberry\", \"bnana\"]\n",
    "sorted(fruits, key=lambda word : word[::-1])"
   ]
  },
  {
   "cell_type": "markdown",
   "execution_count": null,
   "metadata": {},
   "outputs": [],
   "source": [
    "## 判断一个函数是否可调用，最安全的方法是使用内置的callable()函数"
   ]
  },
  {
   "cell_type": "code",
   "execution_count": 25,
   "metadata": {},
   "outputs": [
    {
     "data": {
      "text/plain": "[True, True, False]"
     },
     "execution_count": 25,
     "metadata": {},
     "output_type": "execute_result"
    }
   ],
   "source": [
    "list = [abs, str, 21]\n",
    "[callable(obj) for obj in list]"
   ]
  },
  {
   "cell_type": "code",
   "execution_count": 26,
   "metadata": {},
   "outputs": [
    {
     "name": "stdout",
     "output_type": "stream",
     "text": "<class 'builtin_function_or_method'>\n"
    }
   ],
   "source": [
    "x = abs\n",
    "print(type(x))"
   ]
  },
  {
   "cell_type": "markdown",
   "execution_count": null,
   "metadata": {},
   "outputs": [],
   "source": [
    "## 5.5用户自定义的可调用类型\n",
    "### 不仅python函数是真正的对象，任何Python对象都可以表现的像函数。只需要实现实例方法__call__"
   ]
  },
  {
   "cell_type": "code",
   "execution_count": 3,
   "metadata": {},
   "outputs": [],
   "source": [
    "import random\n",
    "class Bingo:\n",
    "    def __init__(self, items):\n",
    "        self._items = list(items)\n",
    "        random.shuffle(self._items)\n",
    "\n",
    "    def pick(self):\n",
    "        try:\n",
    "            return self._items.pop()\n",
    "        except IndexError:\n",
    "            raise LookupError(\"pick from empty BingoCage\")\n",
    "\n",
    "    def __call__(self):\n",
    "        return self.pick()"
   ]
  },
  {
   "cell_type": "code",
   "execution_count": 6,
   "metadata": {},
   "outputs": [
    {
     "name": "stdout",
     "output_type": "stream",
     "text": "3\n2\n"
    }
   ],
   "source": [
    "bingo = Bingo(range(4))\n",
    "print(bingo.pick())\n",
    "print(bingo())"
   ]
  },
  {
   "cell_type": "markdown",
   "execution_count": null,
   "metadata": {},
   "outputs": [],
   "source": [
    "## 5.6 函数内省"
   ]
  },
  {
   "cell_type": "code",
   "execution_count": 3,
   "metadata": {},
   "outputs": [
    {
     "data": {
      "text/plain": "['__annotations__',\n '__call__',\n '__class__',\n '__closure__',\n '__code__',\n '__defaults__',\n '__delattr__',\n '__dict__',\n '__dir__',\n '__doc__',\n '__eq__',\n '__format__',\n '__ge__',\n '__get__',\n '__getattribute__',\n '__globals__',\n '__gt__',\n '__hash__',\n '__init__',\n '__init_subclass__',\n '__kwdefaults__',\n '__le__',\n '__lt__',\n '__module__',\n '__name__',\n '__ne__',\n '__new__',\n '__qualname__',\n '__reduce__',\n '__reduce_ex__',\n '__repr__',\n '__setattr__',\n '__sizeof__',\n '__str__',\n '__subclasshook__']"
     },
     "execution_count": 3,
     "metadata": {},
     "output_type": "execute_result"
    }
   ],
   "source": [
    "dir(factorial)"
   ]
  },
  {
   "cell_type": "code",
   "execution_count": 15,
   "metadata": {},
   "outputs": [
    {
     "data": {
      "text/plain": "['__annotations__',\n '__call__',\n '__closure__',\n '__code__',\n '__defaults__',\n '__get__',\n '__globals__',\n '__kwdefaults__',\n '__name__',\n '__qualname__']"
     },
     "execution_count": 15,
     "metadata": {},
     "output_type": "execute_result"
    }
   ],
   "source": [
    "# 列出只有函数有，普通对象没有的属性\n",
    "class C: pass\n",
    "obj = C()\n",
    "def func(a, b, c=1): pass\n",
    "sorted(set(dir(func))-set(dir(obj)))"
   ]
  },
  {
   "cell_type": "code",
   "execution_count": 21,
   "metadata": {},
   "outputs": [
    {
     "name": "stdout",
     "output_type": "stream",
     "text": "(1,)\n"
    }
   ],
   "source": [
    "# 形式参数的默认值 tuple类型\n",
    "print(func.__defaults__)"
   ]
  },
  {
   "cell_type": "code",
   "execution_count": 18,
   "metadata": {},
   "outputs": [
    {
     "name": "stdout",
     "output_type": "stream",
     "text": "None\n"
    }
   ],
   "source": [
    "print(func.__kwdefaults__)"
   ]
  },
  {
   "cell_type": "code",
   "execution_count": 19,
   "metadata": {},
   "outputs": [
    {
     "name": "stdout",
     "output_type": "stream",
     "text": "{'__name__': '__main__', '__doc__': 'Automatically created module for IPython interactive environment', '__package__': None, '__loader__': None, '__spec__': None, '__builtin__': <module 'builtins' (built-in)>, '__builtins__': <module 'builtins' (built-in)>, '_ih': ['', 'dir(factorial)', \"def factorial(n):\\n    '''reutrn n!'''\\n    return 1 if n < 2 else  n * factorial(n-1)\\n\\nfactorial(42)\", 'dir(factorial)', '# 列出只有函数有，普通对象没有的属性\\nclass C: pass\\nobj = C()\\ndef func(): pass\\nsorted(set(func)-set(ob))', '# 列出只有函数有，普通对象没有的属性\\nclass C: pass\\nobj = C()\\ndef func(): pass\\nsorted(set(func)-set(obj))', '# 列出只有函数有，普通对象没有的属性\\nclass C: pass\\nobj = C()\\ndef func(): pass\\nsorted(set(dir(func)-set(dir(obj))', '# 列出只有函数有，普通对象没有的属性\\nclass C: pass\\nobj = C()\\ndef func(): pass\\nsorted(set(dir(func)-set(dir(obj)))', '# 列出只有函数有，普通对象没有的属性\\nclass C: pass\\nobj = C()\\ndef func(): pass\\nsorted(set(dir(func))-set(dir(obj)))', 'print(func.__defaults__)', 'print(func.__defaults__)', '# 列出只有函数有，普通对象没有的属性\\nclass C: pass\\nobj = C()\\ndef func(a, b, c): pass\\nsorted(set(dir(func))-set(dir(obj)))', 'print(func.__defaults__)', '# 列出只有函数有，普通对象没有的属性\\nclass C: pass\\nobj = C()\\ndef func(a, b, c): pass\\nsorted(set(dir(func))-set(dir(obj)))', 'print(func.__defaults__)', '# 列出只有函数有，普通对象没有的属性\\nclass C: pass\\nobj = C()\\ndef func(a, b, c=1): pass\\nsorted(set(dir(func))-set(dir(obj)))', 'print(func.__defaults__)', 'print(func.__kwdefaults__)', 'print(func.__kwdefaults__)', 'print(func.__globals__)'], '_oh': {1: (5, 6, 0), 2: 1405006117752879898543142606244511569936384000000000, 3: ['__annotations__', '__call__', '__class__', '__closure__', '__code__', '__defaults__', '__delattr__', '__dict__', '__dir__', '__doc__', '__eq__', '__format__', '__ge__', '__get__', '__getattribute__', '__globals__', '__gt__', '__hash__', '__init__', '__init_subclass__', '__kwdefaults__', '__le__', '__lt__', '__module__', '__name__', '__ne__', '__new__', '__qualname__', '__reduce__', '__reduce_ex__', '__repr__', '__setattr__', '__sizeof__', '__str__', '__subclasshook__'], 8: ['__annotations__', '__call__', '__closure__', '__code__', '__defaults__', '__get__', '__globals__', '__kwdefaults__', '__name__', '__qualname__'], 11: ['__annotations__', '__call__', '__closure__', '__code__', '__defaults__', '__get__', '__globals__', '__kwdefaults__', '__name__', '__qualname__'], 13: ['__annotations__', '__call__', '__closure__', '__code__', '__defaults__', '__get__', '__globals__', '__kwdefaults__', '__name__', '__qualname__'], 15: ['__annotations__', '__call__', '__closure__', '__code__', '__defaults__', '__get__', '__globals__', '__kwdefaults__', '__name__', '__qualname__']}, '_dh': ['C:\\\\Users\\\\sxguoli\\\\AppData\\\\Local\\\\Temp\\\\fabe0bae-0761-4b0a-9065-4a501073e8f2', 'f:\\\\sxguo\\\\python\\\\fluent_py'], 'In': ['', 'dir(factorial)', \"def factorial(n):\\n    '''reutrn n!'''\\n    return 1 if n < 2 else  n * factorial(n-1)\\n\\nfactorial(42)\", 'dir(factorial)', '# 列出只有函数有，普通对象没有的属性\\nclass C: pass\\nobj = C()\\ndef func(): pass\\nsorted(set(func)-set(ob))', '# 列出只有函数有，普通对象没有的属性\\nclass C: pass\\nobj = C()\\ndef func(): pass\\nsorted(set(func)-set(obj))', '# 列出只有函数有，普通对象没有的属性\\nclass C: pass\\nobj = C()\\ndef func(): pass\\nsorted(set(dir(func)-set(dir(obj))', '# 列出只有函数有，普通对象没有的属性\\nclass C: pass\\nobj = C()\\ndef func(): pass\\nsorted(set(dir(func)-set(dir(obj)))', '# 列出只有函数有，普通对象没有的属性\\nclass C: pass\\nobj = C()\\ndef func(): pass\\nsorted(set(dir(func))-set(dir(obj)))', 'print(func.__defaults__)', 'print(func.__defaults__)', '# 列出只有函数有，普通对象没有的属性\\nclass C: pass\\nobj = C()\\ndef func(a, b, c): pass\\nsorted(set(dir(func))-set(dir(obj)))', 'print(func.__defaults__)', '# 列出只有函数有，普通对象没有的属性\\nclass C: pass\\nobj = C()\\ndef func(a, b, c): pass\\nsorted(set(dir(func))-set(dir(obj)))', 'print(func.__defaults__)', '# 列出只有函数有，普通对象没有的属性\\nclass C: pass\\nobj = C()\\ndef func(a, b, c=1): pass\\nsorted(set(dir(func))-set(dir(obj)))', 'print(func.__defaults__)', 'print(func.__kwdefaults__)', 'print(func.__kwdefaults__)', 'print(func.__globals__)'], 'Out': {1: (5, 6, 0), 2: 1405006117752879898543142606244511569936384000000000, 3: ['__annotations__', '__call__', '__class__', '__closure__', '__code__', '__defaults__', '__delattr__', '__dict__', '__dir__', '__doc__', '__eq__', '__format__', '__ge__', '__get__', '__getattribute__', '__globals__', '__gt__', '__hash__', '__init__', '__init_subclass__', '__kwdefaults__', '__le__', '__lt__', '__module__', '__name__', '__ne__', '__new__', '__qualname__', '__reduce__', '__reduce_ex__', '__repr__', '__setattr__', '__sizeof__', '__str__', '__subclasshook__'], 8: ['__annotations__', '__call__', '__closure__', '__code__', '__defaults__', '__get__', '__globals__', '__kwdefaults__', '__name__', '__qualname__'], 11: ['__annotations__', '__call__', '__closure__', '__code__', '__defaults__', '__get__', '__globals__', '__kwdefaults__', '__name__', '__qualname__'], 13: ['__annotations__', '__call__', '__closure__', '__code__', '__defaults__', '__get__', '__globals__', '__kwdefaults__', '__name__', '__qualname__'], 15: ['__annotations__', '__call__', '__closure__', '__code__', '__defaults__', '__get__', '__globals__', '__kwdefaults__', '__name__', '__qualname__']}, 'get_ipython': <bound method InteractiveShell.get_ipython of <ipykernel.zmqshell.ZMQInteractiveShell object at 0x000001F046633630>>, 'exit': <IPython.core.autocall.ZMQExitAutocall object at 0x000001F046633550>, 'quit': <IPython.core.autocall.ZMQExitAutocall object at 0x000001F046633550>, '_': ['__annotations__', '__call__', '__closure__', '__code__', '__defaults__', '__get__', '__globals__', '__kwdefaults__', '__name__', '__qualname__'], '__': ['__annotations__', '__call__', '__closure__', '__code__', '__defaults__', '__get__', '__globals__', '__kwdefaults__', '__name__', '__qualname__'], '___': ['__annotations__', '__call__', '__closure__', '__code__', '__defaults__', '__get__', '__globals__', '__kwdefaults__', '__name__', '__qualname__'], 'matplotlib': <module 'matplotlib' from 'C:\\\\Anaconda\\\\lib\\\\site-packages\\\\matplotlib\\\\__init__.py'>, '_VSCode_defaultMatplotlib_Params': {'backend': 'module://ipykernel.pylab.backend_inline', 'backend_fallback': True, 'backend.qt4': None, 'backend.qt5': None, 'webagg.port': 8988, 'webagg.address': '127.0.0.1', 'webagg.open_in_browser': True, 'webagg.port_retries': 50, 'toolbar': 'toolbar2', 'datapath': 'C:\\\\Anaconda\\\\lib\\\\site-packages\\\\matplotlib\\\\mpl-data', 'interactive': True, 'timezone': 'UTC', 'verbose.level': 'silent', 'verbose.fileo': 'sys.stdout', 'lines.linewidth': 1.5, 'lines.linestyle': '-', 'lines.color': 'C0', 'lines.marker': 'None', 'lines.markeredgewidth': 1.0, 'lines.markersize': 6.0, 'lines.antialiased': True, 'lines.dash_joinstyle': 'round', 'lines.solid_joinstyle': 'round', 'lines.dash_capstyle': 'butt', 'lines.solid_capstyle': 'projecting', 'lines.dashed_pattern': [3.7, 1.6], 'lines.dashdot_pattern': [6.4, 1.6, 1.0, 1.6], 'lines.dotted_pattern': [1.0, 1.65], 'lines.scale_dashes': True, 'markers.fillstyle': 'full', 'patch.linewidth': 1.0, 'patch.edgecolor': 'k', 'patch.force_edgecolor': False, 'patch.facecolor': 'C0', 'patch.antialiased': True, 'hatch.color': 'k', 'hatch.linewidth': 1.0, 'hist.bins': 10, 'boxplot.notch': False, 'boxplot.vertical': True, 'boxplot.whiskers': 1.5, 'boxplot.bootstrap': None, 'boxplot.patchartist': False, 'boxplot.showmeans': False, 'boxplot.showcaps': True, 'boxplot.showbox': True, 'boxplot.showfliers': True, 'boxplot.meanline': False, 'boxplot.flierprops.color': 'k', 'boxplot.flierprops.marker': 'o', 'boxplot.flierprops.markerfacecolor': 'none', 'boxplot.flierprops.markeredgecolor': 'k', 'boxplot.flierprops.markersize': 6.0, 'boxplot.flierprops.linestyle': 'none', 'boxplot.flierprops.linewidth': 1.0, 'boxplot.boxprops.color': 'k', 'boxplot.boxprops.linewidth': 1.0, 'boxplot.boxprops.linestyle': '-', 'boxplot.whiskerprops.color': 'k', 'boxplot.whiskerprops.linewidth': 1.0, 'boxplot.whiskerprops.linestyle': '-', 'boxplot.capprops.color': 'k', 'boxplot.capprops.linewidth': 1.0, 'boxplot.capprops.linestyle': '-', 'boxplot.medianprops.color': 'C1', 'boxplot.medianprops.linewidth': 1.0, 'boxplot.medianprops.linestyle': '-', 'boxplot.meanprops.color': 'C2', 'boxplot.meanprops.marker': '^', 'boxplot.meanprops.markerfacecolor': 'C2', 'boxplot.meanprops.markeredgecolor': 'C2', 'boxplot.meanprops.markersize': 6.0, 'boxplot.meanprops.linestyle': '--', 'boxplot.meanprops.linewidth': 1.0, 'font.family': ['sans-serif'], 'font.style': 'normal', 'font.variant': 'normal', 'font.stretch': 'normal', 'font.weight': 'normal', 'font.size': 10.0, 'font.serif': ['DejaVu Serif', 'Bitstream Vera Serif', 'Computer Modern Roman', 'New Century Schoolbook', 'Century Schoolbook L', 'Utopia', 'ITC Bookman', 'Bookman', 'Nimbus Roman No9 L', 'Times New Roman', 'Times', 'Palatino', 'Charter', 'serif'], 'font.sans-serif': ['DejaVu Sans', 'Bitstream Vera Sans', 'Computer Modern Sans Serif', 'Lucida Grande', 'Verdana', 'Geneva', 'Lucid', 'Arial', 'Helvetica', 'Avant Garde', 'sans-serif'], 'font.cursive': ['Apple Chancery', 'Textile', 'Zapf Chancery', 'Sand', 'Script MT', 'Felipa', 'cursive'], 'font.fantasy': ['Comic Sans MS', 'Chicago', 'Charcoal', 'ImpactWestern', 'Humor Sans', 'xkcd', 'fantasy'], 'font.monospace': ['DejaVu Sans Mono', 'Bitstream Vera Sans Mono', 'Computer Modern Typewriter', 'Andale Mono', 'Nimbus Mono L', 'Courier New', 'Courier', 'Fixed', 'Terminal', 'monospace'], 'text.color': 'k', 'text.usetex': False, 'text.latex.unicode': False, 'text.latex.preamble': [], 'text.latex.preview': False, 'text.hinting': 'auto', 'text.hinting_factor': 8, 'text.antialiased': True, 'mathtext.cal': 'cursive', 'mathtext.rm': 'sans', 'mathtext.tt': 'monospace', 'mathtext.it': 'sans:italic', 'mathtext.bf': 'sans:bold', 'mathtext.sf': 'sans', 'mathtext.fontset': 'dejavusans', 'mathtext.default': 'it', 'mathtext.fallback_to_cm': True, 'image.aspect': 'equal', 'image.interpolation': 'nearest', 'image.cmap': 'viridis', 'image.lut': 256, 'image.origin': 'upper', 'image.resample': True, 'image.composite_image': True, 'contour.negative_linestyle': 'dashed', 'contour.corner_mask': True, 'errorbar.capsize': 0.0, 'axes.axisbelow': 'line', 'axes.hold': None, 'axes.facecolor': 'w', 'axes.edgecolor': 'k', 'axes.linewidth': 0.8, 'axes.spines.left': True, 'axes.spines.right': True, 'axes.spines.bottom': True, 'axes.spines.top': True, 'axes.titlesize': 'large', 'axes.titleweight': 'normal', 'axes.titlepad': 6.0, 'axes.grid': False, 'axes.grid.which': 'major', 'axes.grid.axis': 'both', 'axes.labelsize': 'medium', 'axes.labelpad': 4.0, 'axes.labelweight': 'normal', 'axes.labelcolor': 'k', 'axes.formatter.limits': [-7, 7], 'axes.formatter.use_locale': False, 'axes.formatter.use_mathtext': False, 'axes.formatter.min_exponent': 0, 'axes.formatter.useoffset': True, 'axes.formatter.offset_threshold': 4, 'axes.unicode_minus': True, 'axes.prop_cycle': cycler('color', ['#1f77b4', '#ff7f0e', '#2ca02c', '#d62728', '#9467bd', '#8c564b', '#e377c2', '#7f7f7f', '#bcbd22', '#17becf']), 'axes.autolimit_mode': 'data', 'axes.xmargin': 0.05, 'axes.ymargin': 0.05, 'polaraxes.grid': True, 'axes3d.grid': True, 'scatter.marker': 'o', 'date.autoformatter.year': '%Y', 'date.autoformatter.month': '%Y-%m', 'date.autoformatter.day': '%Y-%m-%d', 'date.autoformatter.hour': '%m-%d %H', 'date.autoformatter.minute': '%d %H:%M', 'date.autoformatter.second': '%H:%M:%S', 'date.autoformatter.microsecond': '%M:%S.%f', 'legend.fancybox': True, 'legend.loc': 'best', 'legend.numpoints': 1, 'legend.scatterpoints': 1, 'legend.fontsize': 'medium', 'legend.markerscale': 1.0, 'legend.shadow': False, 'legend.frameon': True, 'legend.framealpha': 0.8, 'legend.borderpad': 0.4, 'legend.labelspacing': 0.5, 'legend.handlelength': 2.0, 'legend.handleheight': 0.7, 'legend.handletextpad': 0.8, 'legend.borderaxespad': 0.5, 'legend.columnspacing': 2.0, 'legend.facecolor': 'inherit', 'legend.edgecolor': '0.8', 'xtick.top': False, 'xtick.bottom': True, 'xtick.labeltop': False, 'xtick.labelbottom': True, 'xtick.major.size': 3.5, 'xtick.minor.size': 2.0, 'xtick.major.width': 0.8, 'xtick.minor.width': 0.6, 'xtick.major.pad': 3.5, 'xtick.minor.pad': 3.4, 'xtick.color': 'k', 'xtick.minor.visible': False, 'xtick.minor.top': True, 'xtick.minor.bottom': True, 'xtick.major.top': True, 'xtick.major.bottom': True, 'xtick.labelsize': 'medium', 'xtick.direction': 'out', 'xtick.alignment': 'center', 'ytick.left': True, 'ytick.right': False, 'ytick.labelleft': True, 'ytick.labelright': False, 'ytick.major.size': 3.5, 'ytick.minor.size': 2.0, 'ytick.major.width': 0.8, 'ytick.minor.width': 0.6, 'ytick.major.pad': 3.5, 'ytick.minor.pad': 3.4, 'ytick.color': 'k', 'ytick.minor.visible': False, 'ytick.minor.left': True, 'ytick.minor.right': True, 'ytick.major.left': True, 'ytick.major.right': True, 'ytick.labelsize': 'medium', 'ytick.direction': 'out', 'ytick.alignment': 'center_baseline', 'grid.color': '#b0b0b0', 'grid.linestyle': '-', 'grid.linewidth': 0.8, 'grid.alpha': 1.0, 'figure.titlesize': 'large', 'figure.titleweight': 'normal', 'figure.figsize': [6.0, 4.0], 'figure.dpi': 72.0, 'figure.facecolor': (1, 1, 1, 0), 'figure.edgecolor': (1, 1, 1, 0), 'figure.frameon': True, 'figure.autolayout': False, 'figure.max_open_warning': 20, 'figure.subplot.left': 0.125, 'figure.subplot.right': 0.9, 'figure.subplot.bottom': 0.125, 'figure.subplot.top': 0.88, 'figure.subplot.wspace': 0.2, 'figure.subplot.hspace': 0.2, 'figure.constrained_layout.use': False, 'figure.constrained_layout.hspace': 0.02, 'figure.constrained_layout.wspace': 0.02, 'figure.constrained_layout.h_pad': 0.04167, 'figure.constrained_layout.w_pad': 0.04167, 'savefig.dpi': 'figure', 'savefig.facecolor': 'w', 'savefig.edgecolor': 'w', 'savefig.frameon': True, 'savefig.orientation': 'portrait', 'savefig.jpeg_quality': 95, 'savefig.format': 'png', 'savefig.bbox': None, 'savefig.pad_inches': 0.1, 'savefig.directory': '~', 'savefig.transparent': False, 'tk.window_focus': False, 'ps.papersize': 'letter', 'ps.useafm': False, 'ps.usedistiller': False, 'ps.distiller.res': 6000, 'ps.fonttype': 3, 'pdf.compression': 6, 'pdf.inheritcolor': False, 'pdf.use14corefonts': False, 'pdf.fonttype': 3, 'pgf.debug': False, 'pgf.texsystem': 'xelatex', 'pgf.rcfonts': True, 'pgf.preamble': [], 'svg.image_inline': True, 'svg.fonttype': 'path', 'svg.hashsalt': None, 'docstring.hardcopy': False, 'path.simplify': True, 'path.simplify_threshold': 0.1111111111111111, 'path.snap': True, 'path.sketch': None, 'path.effects': [], 'agg.path.chunksize': 0, 'keymap.fullscreen': ['f', 'ctrl+f'], 'keymap.home': ['h', 'r', 'home'], 'keymap.back': ['left', 'c', 'backspace'], 'keymap.forward': ['right', 'v'], 'keymap.pan': ['p'], 'keymap.zoom': ['o'], 'keymap.save': ['s', 'ctrl+s'], 'keymap.quit': ['ctrl+w', 'cmd+w', 'q'], 'keymap.quit_all': ['W', 'cmd+W', 'Q'], 'keymap.grid': ['g'], 'keymap.grid_minor': ['G'], 'keymap.yscale': ['l'], 'keymap.xscale': ['k', 'L'], 'keymap.all_axes': ['a'], 'examples.directory': '', 'animation.html': 'none', 'animation.embed_limit': 20.0, 'animation.writer': 'ffmpeg', 'animation.codec': 'h264', 'animation.bitrate': -1, 'animation.frame_format': 'png', 'animation.html_args': [], 'animation.ffmpeg_path': 'ffmpeg', 'animation.ffmpeg_args': [], 'animation.avconv_path': 'avconv', 'animation.avconv_args': [], 'animation.convert_path': 'convert', 'animation.convert_args': [], '_internal.classic_mode': False}, 'sys': <module 'sys' (built-in)>, '_1': (5, 6, 0), 'notebook': <module 'notebook' from 'C:\\\\Anaconda\\\\lib\\\\site-packages\\\\notebook\\\\__init__.py'>, '_i': 'print(func.__kwdefaults__)', '_ii': 'print(func.__kwdefaults__)', '_iii': 'print(func.__defaults__)', '_i1': 'dir(factorial)', '_i2': \"def factorial(n):\\n    '''reutrn n!'''\\n    return 1 if n < 2 else  n * factorial(n-1)\\n\\nfactorial(42)\", 'factorial': <function factorial at 0x000001F057AFBEA0>, '_2': 1405006117752879898543142606244511569936384000000000, '_i3': 'dir(factorial)', '_3': ['__annotations__', '__call__', '__class__', '__closure__', '__code__', '__defaults__', '__delattr__', '__dict__', '__dir__', '__doc__', '__eq__', '__format__', '__ge__', '__get__', '__getattribute__', '__globals__', '__gt__', '__hash__', '__init__', '__init_subclass__', '__kwdefaults__', '__le__', '__lt__', '__module__', '__name__', '__ne__', '__new__', '__qualname__', '__reduce__', '__reduce_ex__', '__repr__', '__setattr__', '__sizeof__', '__str__', '__subclasshook__'], '_i4': '# 列出只有函数有，普通对象没有的属性\\nclass C: pass\\nobj = C()\\ndef func(): pass\\nsorted(set(func)-set(ob))', 'C': <class '__main__.C'>, 'obj': <__main__.C object at 0x000001F057B27C18>, 'func': <function func at 0x000001F057B1FB70>, '_i5': '# 列出只有函数有，普通对象没有的属性\\nclass C: pass\\nobj = C()\\ndef func(): pass\\nsorted(set(func)-set(obj))', '_i6': '# 列出只有函数有，普通对象没有的属性\\nclass C: pass\\nobj = C()\\ndef func(): pass\\nsorted(set(dir(func)-set(dir(obj))', '_i7': '# 列出只有函数有，普通对象没有的属性\\nclass C: pass\\nobj = C()\\ndef func(): pass\\nsorted(set(dir(func)-set(dir(obj)))', '_i8': '# 列出只有函数有，普通对象没有的属性\\nclass C: pass\\nobj = C()\\ndef func(): pass\\nsorted(set(dir(func))-set(dir(obj)))', '_8': ['__annotations__', '__call__', '__closure__', '__code__', '__defaults__', '__get__', '__globals__', '__kwdefaults__', '__name__', '__qualname__'], '_i9': 'print(func.__defaults__)', '_i10': 'print(func.__defaults__)', '_i11': '# 列出只有函数有，普通对象没有的属性\\nclass C: pass\\nobj = C()\\ndef func(a, b, c): pass\\nsorted(set(dir(func))-set(dir(obj)))', '_11': ['__annotations__', '__call__', '__closure__', '__code__', '__defaults__', '__get__', '__globals__', '__kwdefaults__', '__name__', '__qualname__'], '_i12': 'print(func.__defaults__)', '_i13': '# 列出只有函数有，普通对象没有的属性\\nclass C: pass\\nobj = C()\\ndef func(a, b, c): pass\\nsorted(set(dir(func))-set(dir(obj)))', '_13': ['__annotations__', '__call__', '__closure__', '__code__', '__defaults__', '__get__', '__globals__', '__kwdefaults__', '__name__', '__qualname__'], '_i14': 'print(func.__defaults__)', '_i15': '# 列出只有函数有，普通对象没有的属性\\nclass C: pass\\nobj = C()\\ndef func(a, b, c=1): pass\\nsorted(set(dir(func))-set(dir(obj)))', '_15': ['__annotations__', '__call__', '__closure__', '__code__', '__defaults__', '__get__', '__globals__', '__kwdefaults__', '__name__', '__qualname__'], '_i16': 'print(func.__defaults__)', '_i17': 'print(func.__kwdefaults__)', '_i18': 'print(func.__kwdefaults__)', '_i19': 'print(func.__globals__)'}\n"
    }
   ],
   "source": [
    "print(func.__globals__)"
   ]
  },
  {
   "cell_type": "code",
   "execution_count": 20,
   "metadata": {},
   "outputs": [
    {
     "name": "stdout",
     "output_type": "stream",
     "text": "func\n"
    }
   ],
   "source": [
    "# 函数限定名称\n",
    "print(func.__qualname__"
   ]
  },
  {
   "cell_type": "markdown",
   "execution_count": null,
   "metadata": {},
   "outputs": [],
   "source": [
    "## 5.7 从定位参数到仅限关键字参数"
   ]
  },
  {
   "cell_type": "code",
   "execution_count": 40,
   "metadata": {},
   "outputs": [
    {
     "name": "stdout",
     "output_type": "stream",
     "text": "arg1 =  [1, 2, 3]\narge2 =  1\narg3 =  2\narg1 =  sxg\narge2 =  123\narg3 =  18\n"
    }
   ],
   "source": [
    "def func(arg1, arg2, arg3):\n",
    "    print(\"arg1 = \", arg1)\n",
    "    print(\"arge2 = \", arg2)\n",
    "    print(\"arg3 = \", arg3)\n",
    "\n",
    "func([1,2,3], 1, 2)\n",
    "kwargs = {\"arg1\": \"sxg\", \"arg2\": \"123\", \"arg3\": 18}\n",
    "func(**kwargs)\n",
    "\n"
   ]
  },
  {
   "cell_type": "code",
   "execution_count": 42,
   "metadata": {},
   "outputs": [
    {
     "name": "stdout",
     "output_type": "stream",
     "text": "None\nNone\n<code object func at 0x000001F057B281E0, file \"<ipython-input-40-402d0249320b>\", line 1>\n"
    }
   ],
   "source": [
    "print(func.__defaults__)\n",
    "print(func.__kwdefaults__)\n",
    "print(func.__code__)"
   ]
  },
  {
   "cell_type": "code",
   "execution_count": null,
   "metadata": {},
   "outputs": [],
   "source": []
  },
  {
   "cell_type": "code",
   "execution_count": null,
   "metadata": {},
   "outputs": [],
   "source": []
  }
 ]
}